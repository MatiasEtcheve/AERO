{
 "cells": [
  {
   "cell_type": "markdown",
   "metadata": {},
   "source": [
    "# Tubes de confiance\n",
    "\n",
    "Les tubes de confiances sont calculés à partir d'estimations de chacune des courbes en fonction d'autres appelés \"facteurs\".\n",
    "\n",
    "Ce code permet de construire des tubes graphiquement. Pour l'instant l'outil utilisé est assez simple puisqu'il n'utilise que des régressions linéaires. L'idée est que de telles régressions sur de petits nombres de facteurs doivent être suffisante sur des intervalles pas trop longs.\n",
    "\n",
    "Les régressions sont calculées à partir d'échantillonnage de points et testées sur d'autres échantillonnages différents. Un paramètre permet de choisir le taux d'échantillonnage pour l'apprentissage et le test.\n",
    "\n",
    "On construit ainsi pour chaque variable à étudier une série de petites régressions. Les tubes sont simplement issus des valeurs maximales et minimales de ces régressions.\n",
    "\n",
    "Un objet `Tube` gère l'apprentissage et la conception graphique de tous les tubes d'un intervalle, et un autre objet  `AppTube` applique le tube à un Opset compatible (ayant les mêmes variables par signal).\n",
    "\n",
    "### Reste à faire :\n",
    "\n",
    "1. [ ] Un calcul de valeurs extrêmes pour appliquer un coefficient à ces bornes pour que le score (actuellement nombre de points en dehors du tube) corresponde à un seuil statistique.\n",
    "2. [ ] L'implémentation des scores dans l'objet d'application.\n"
   ]
  },
  {
   "cell_type": "code",
   "execution_count": 1,
   "metadata": {},
   "outputs": [],
   "source": [
    "from importlib import reload\n",
    "\n",
    "import numpy as np\n",
    "import pandas as pd\n",
    "import tabata.opset as op\n",
    "\n",
    "from tabata import Selector, Tube, AppTube, highlight"
   ]
  },
  {
   "cell_type": "markdown",
   "metadata": {},
   "source": [
    "Pour des raisons de debuggage, je recharge le module."
   ]
  },
  {
   "cell_type": "code",
   "execution_count": 2,
   "metadata": {},
   "outputs": [],
   "source": [
    "%reload_ext autoreload\n",
    "%autoreload 2"
   ]
  },
  {
   "cell_type": "markdown",
   "metadata": {},
   "source": [
    "On récupère les deux détections d'instants effectuées dans le notebook \"instants_doc\"."
   ]
  },
  {
   "cell_type": "code",
   "execution_count": 4,
   "metadata": {},
   "outputs": [
    {
     "name": "stderr",
     "output_type": "stream",
     "text": [
      "/home/matias/.pyenv/versions/3.9.8/envs/MVA/lib/python3.9/site-packages/sklearn/base.py:329: UserWarning:\n",
      "\n",
      "Trying to unpickle estimator DecisionTreeClassifier from version 0.23.2 when using version 1.1.2. This might lead to breaking code or invalid results. Use at your own risk. For more info please refer to:\n",
      "https://scikit-learn.org/stable/model_persistence.html#security-maintainability-limitations\n",
      "\n"
     ]
    }
   ],
   "source": [
    "import pickle\n",
    "with open('data/in/interval.pkl','rb') as pkl:\n",
    "    S,S1 = pickle.load(pkl)"
   ]
  },
  {
   "cell_type": "markdown",
   "metadata": {},
   "source": [
    "### `S` correspond au début de la phase de croisère."
   ]
  },
  {
   "cell_type": "code",
   "execution_count": 7,
   "metadata": {},
   "outputs": [
    {
     "data": {
      "text/plain": [
       "OPSET 'data/out/AFL1EB_C.h5' de 48 signaux.\n",
       "        position courante : sigpos  = 0\n",
       "        variable courante : colname = ALT[m]\n",
       "        phase surlignée   : phase   = None\n",
       "INSTANTS : 16 instant(s) sélectionnés parmis 48 courbes observées et 1 variables."
      ]
     },
     "execution_count": 7,
     "metadata": {},
     "output_type": "execute_result"
    }
   ],
   "source": [
    "S1"
   ]
  },
  {
   "cell_type": "code",
   "execution_count": 5,
   "metadata": {},
   "outputs": [
    {
     "data": {
      "text/plain": [
       "OPSET 'data/out/AFL1EB_C.h5' de 48 signaux.\n",
       "        position courante : sigpos  = 8\n",
       "        variable courante : colname = ALT[m]\n",
       "        phase surlignée   : phase   = None\n",
       "INSTANTS : 7 instant(s) sélectionnés parmis 9 courbes observées et 1 variables."
      ]
     },
     "execution_count": 5,
     "metadata": {},
     "output_type": "execute_result"
    }
   ],
   "source": [
    "S"
   ]
  },
  {
   "cell_type": "code",
   "execution_count": 6,
   "metadata": {},
   "outputs": [
    {
     "ename": "FileNotFoundError",
     "evalue": "File data/out/AFL1EB_C.h5 does not exist",
     "output_type": "error",
     "traceback": [
      "\u001b[0;31m---------------------------------------------------------------------------\u001b[0m",
      "\u001b[0;31mFileNotFoundError\u001b[0m                         Traceback (most recent call last)",
      "Cell \u001b[0;32mIn [6], line 1\u001b[0m\n\u001b[0;32m----> 1\u001b[0m S\u001b[38;5;241m.\u001b[39mplot()\n",
      "File \u001b[0;32m~/AERO/tabata/instants.py:953\u001b[0m, in \u001b[0;36mSelector.plot\u001b[0;34m(self, phase, pos, name)\u001b[0m\n\u001b[1;32m    947\u001b[0m f \u001b[39m=\u001b[39m make_subplots(rows\u001b[39m=\u001b[39m\u001b[39m2\u001b[39m, cols\u001b[39m=\u001b[39m\u001b[39m1\u001b[39m,\n\u001b[1;32m    948\u001b[0m                   shared_xaxes\u001b[39m=\u001b[39m\u001b[39mTrue\u001b[39;00m,\n\u001b[1;32m    949\u001b[0m                   vertical_spacing\u001b[39m=\u001b[39m\u001b[39m0.03\u001b[39m,\n\u001b[1;32m    950\u001b[0m                   specs\u001b[39m=\u001b[39m[[{\u001b[39m\"\u001b[39m\u001b[39mtype\u001b[39m\u001b[39m\"\u001b[39m: \u001b[39m\"\u001b[39m\u001b[39mscatter\u001b[39m\u001b[39m\"\u001b[39m}],\n\u001b[1;32m    951\u001b[0m                         [{\u001b[39m\"\u001b[39m\u001b[39mtype\u001b[39m\u001b[39m\"\u001b[39m: \u001b[39m\"\u001b[39m\u001b[39mscatter\u001b[39m\u001b[39m\"\u001b[39m}]])\n\u001b[1;32m    952\u001b[0m f \u001b[39m=\u001b[39m go\u001b[39m.\u001b[39mFigureWidget(f)\n\u001b[0;32m--> 953\u001b[0m e \u001b[39m=\u001b[39m \u001b[39mself\u001b[39;49m\u001b[39m.\u001b[39;49mmake_figure(f,phase,pos,name)\n\u001b[1;32m    954\u001b[0m out \u001b[39m=\u001b[39m widgets\u001b[39m.\u001b[39minteractive(e[\u001b[39m'\u001b[39m\u001b[39mupdate_function\u001b[39m\u001b[39m'\u001b[39m], \n\u001b[1;32m    955\u001b[0m                           colname\u001b[39m=\u001b[39me[\u001b[39m'\u001b[39m\u001b[39mvariable_dropdown\u001b[39m\u001b[39m'\u001b[39m], \n\u001b[1;32m    956\u001b[0m                           sigpos\u001b[39m=\u001b[39me[\u001b[39m'\u001b[39m\u001b[39msignal_slider\u001b[39m\u001b[39m'\u001b[39m],\n\u001b[1;32m    957\u001b[0m                           width\u001b[39m=\u001b[39me[\u001b[39m'\u001b[39m\u001b[39mfilter_slider\u001b[39m\u001b[39m'\u001b[39m])\n\u001b[1;32m    959\u001b[0m boxes \u001b[39m=\u001b[39m widgets\u001b[39m.\u001b[39mVBox(\n\u001b[1;32m    960\u001b[0m     [widgets\u001b[39m.\u001b[39mHBox([e[\u001b[39m'\u001b[39m\u001b[39mvariable_dropdown\u001b[39m\u001b[39m'\u001b[39m], \n\u001b[1;32m    961\u001b[0m                   e[\u001b[39m'\u001b[39m\u001b[39mprevious_button\u001b[39m\u001b[39m'\u001b[39m], e[\u001b[39m'\u001b[39m\u001b[39mnext_button\u001b[39m\u001b[39m'\u001b[39m]]),\n\u001b[1;32m    962\u001b[0m      widgets\u001b[39m.\u001b[39mHBox([f, e[\u001b[39m'\u001b[39m\u001b[39msignal_slider\u001b[39m\u001b[39m'\u001b[39m]]),\n\u001b[1;32m    963\u001b[0m      widgets\u001b[39m.\u001b[39mHBox([e[\u001b[39m'\u001b[39m\u001b[39mfilter_slider\u001b[39m\u001b[39m'\u001b[39m]])\n\u001b[1;32m    964\u001b[0m     ])\n",
      "File \u001b[0;32m~/AERO/tabata/instants.py:707\u001b[0m, in \u001b[0;36mSelector.make_figure\u001b[0;34m(self, f, phase, pos, name)\u001b[0m\n\u001b[1;32m    692\u001b[0m \u001b[39m\"\"\" Création de l'interface graphique.\u001b[39;00m\n\u001b[1;32m    693\u001b[0m \u001b[39m\u001b[39;00m\n\u001b[1;32m    694\u001b[0m \u001b[39m    On rajoute à l'interface graphique de l'Opset une fonction de\u001b[39;00m\n\u001b[0;32m   (...)\u001b[0m\n\u001b[1;32m    703\u001b[0m \u001b[39m    l'apprentissage s'est bien passé et que l'on peut recommencer.\u001b[39;00m\n\u001b[1;32m    704\u001b[0m \u001b[39m\"\"\"\u001b[39;00m\n\u001b[1;32m    706\u001b[0m \u001b[39m# Récupération de l'interface de l'Opset.\u001b[39;00m\n\u001b[0;32m--> 707\u001b[0m e \u001b[39m=\u001b[39m Opset\u001b[39m.\u001b[39;49mmake_figure(\u001b[39mself\u001b[39;49m,f,phase,pos,name)\n\u001b[1;32m    709\u001b[0m \u001b[39m# self.sigpos et self.colname sont mis à jour, \u001b[39;00m\n\u001b[1;32m    710\u001b[0m \u001b[39m# ne pas utiliser ces variables ensuite.\u001b[39;00m\n\u001b[1;32m    711\u001b[0m old_update \u001b[39m=\u001b[39m e[\u001b[39m'\u001b[39m\u001b[39mupdate_function\u001b[39m\u001b[39m'\u001b[39m]\n",
      "File \u001b[0;32m~/AERO/tabata/opset.py:317\u001b[0m, in \u001b[0;36mOpset.make_figure\u001b[0;34m(self, f, phase, pos, name)\u001b[0m\n\u001b[1;32m    314\u001b[0m     \u001b[39mself\u001b[39m\u001b[39m.\u001b[39msigpos \u001b[39m=\u001b[39m pos\n\u001b[1;32m    315\u001b[0m \u001b[39m# On relit systématiquement le fichier au début au cas où une nouvelle colonne\u001b[39;00m\n\u001b[1;32m    316\u001b[0m \u001b[39m# serait ajoutée.\u001b[39;00m\n\u001b[0;32m--> 317\u001b[0m \u001b[39mself\u001b[39m\u001b[39m.\u001b[39mdf \u001b[39m=\u001b[39m pd\u001b[39m.\u001b[39;49mread_hdf(\u001b[39mself\u001b[39;49m\u001b[39m.\u001b[39;49mstorename, \u001b[39mself\u001b[39;49m\u001b[39m.\u001b[39;49mrecords[\u001b[39mself\u001b[39;49m\u001b[39m.\u001b[39;49msigpos])\n\u001b[1;32m    319\u001b[0m \u001b[39mif\u001b[39;00m name \u001b[39mis\u001b[39;00m \u001b[39mnot\u001b[39;00m \u001b[39mNone\u001b[39;00m:\n\u001b[1;32m    320\u001b[0m     \u001b[39mself\u001b[39m\u001b[39m.\u001b[39mcolname \u001b[39m=\u001b[39m get_colname(\u001b[39mself\u001b[39m\u001b[39m.\u001b[39mdf\u001b[39m.\u001b[39mcolumns, name)\n",
      "File \u001b[0;32m~/.pyenv/versions/3.9.8/envs/MVA/lib/python3.9/site-packages/pandas/io/pytables.py:414\u001b[0m, in \u001b[0;36mread_hdf\u001b[0;34m(path_or_buf, key, mode, errors, where, start, stop, columns, iterator, chunksize, **kwargs)\u001b[0m\n\u001b[1;32m    411\u001b[0m     exists \u001b[39m=\u001b[39m \u001b[39mFalse\u001b[39;00m\n\u001b[1;32m    413\u001b[0m \u001b[39mif\u001b[39;00m \u001b[39mnot\u001b[39;00m exists:\n\u001b[0;32m--> 414\u001b[0m     \u001b[39mraise\u001b[39;00m \u001b[39mFileNotFoundError\u001b[39;00m(\u001b[39mf\u001b[39m\u001b[39m\"\u001b[39m\u001b[39mFile \u001b[39m\u001b[39m{\u001b[39;00mpath_or_buf\u001b[39m}\u001b[39;00m\u001b[39m does not exist\u001b[39m\u001b[39m\"\u001b[39m)\n\u001b[1;32m    416\u001b[0m store \u001b[39m=\u001b[39m HDFStore(path_or_buf, mode\u001b[39m=\u001b[39mmode, errors\u001b[39m=\u001b[39merrors, \u001b[39m*\u001b[39m\u001b[39m*\u001b[39mkwargs)\n\u001b[1;32m    417\u001b[0m \u001b[39m# can't auto open/close if we are using an iterator\u001b[39;00m\n\u001b[1;32m    418\u001b[0m \u001b[39m# so delegate to the iterator\u001b[39;00m\n",
      "\u001b[0;31mFileNotFoundError\u001b[0m: File data/out/AFL1EB_C.h5 does not exist"
     ]
    }
   ],
   "source": [
    "S.plot()"
   ]
  },
  {
   "cell_type": "markdown",
   "metadata": {},
   "source": [
    "### `S1` est la fin de la phase de croisière."
   ]
  },
  {
   "cell_type": "code",
   "execution_count": null,
   "metadata": {},
   "outputs": [
    {
     "data": {
      "text/plain": [
       "OPSET 'data/out/AFL1EB_C.h5' de 48 signaux.\n",
       "        position courante : sigpos  = 0\n",
       "        variable courante : colname = ALT[m]\n",
       "        phase surlignée   : phase   = None\n",
       "INSTANTS : 16 instant(s) sélectionnés parmis 48 courbes observées et 1 variables."
      ]
     },
     "execution_count": 6,
     "metadata": {},
     "output_type": "execute_result"
    }
   ],
   "source": [
    "S1"
   ]
  },
  {
   "cell_type": "code",
   "execution_count": null,
   "metadata": {},
   "outputs": [
    {
     "data": {
      "application/vnd.jupyter.widget-view+json": {
       "model_id": "a9c2ddcf19db4e03b6bce2a266b9463b",
       "version_major": 2,
       "version_minor": 0
      },
      "text/plain": [
       "Tab(children=(VBox(children=(HBox(children=(Dropdown(description='Variable :', options=('ALT[m]', 'Tisa[K]', '…"
      ]
     },
     "metadata": {},
     "output_type": "display_data"
    }
   ],
   "source": [
    "S1.plot()"
   ]
  },
  {
   "cell_type": "markdown",
   "metadata": {},
   "source": [
    "## Extraction de l'intervalle\n",
    "\n",
    "On utilise la méthode `between()` du détecteur d'instants pour extraire la zone à étudier.\n",
    "\n",
    "_(Une autre solution sans doite plus maline aurait été d'utiliser la méthode `right()` sur `S` puis extraire `S1` à partir de la première détection et enfin utiliser `left()` sur `S1`.)_"
   ]
  },
  {
   "cell_type": "code",
   "execution_count": null,
   "metadata": {},
   "outputs": [],
   "source": [
    "E = S.between(S.predict(),S1.predict())"
   ]
  },
  {
   "cell_type": "code",
   "execution_count": null,
   "metadata": {},
   "outputs": [
    {
     "data": {
      "application/vnd.jupyter.widget-view+json": {
       "model_id": "6e84a837af4246499f12a2e05d63d7ab",
       "version_major": 2,
       "version_minor": 0
      },
      "text/plain": [
       "VBox(children=(HBox(children=(Dropdown(description='Variable :', options=('ALT[m]', 'Tisa[K]', 'TAS[m/s]', 'Vz…"
      ]
     },
     "metadata": {},
     "output_type": "display_data"
    }
   ],
   "source": [
    "E.plot()"
   ]
  },
  {
   "cell_type": "markdown",
   "metadata": {},
   "source": [
    "### Mise en évidence d'une partie d'un signal.\n",
    "\n",
    "Les Opsets ont la possibilité de définir une variable booléenne comme une _phase_ particulière. La fonction `highlight()` du package \"tubes\" permet de fixer une phase INTERVAL à un OPset à partir d'un autre.\n",
    "\n",
    "_(Il est nécessaire que les deux Opsets aient les mêmes noms d'entregistrements.)_"
   ]
  },
  {
   "cell_type": "code",
   "execution_count": null,
   "metadata": {},
   "outputs": [],
   "source": [
    "ds = highlight(S,E)"
   ]
  },
  {
   "cell_type": "code",
   "execution_count": null,
   "metadata": {},
   "outputs": [
    {
     "data": {
      "application/vnd.jupyter.widget-view+json": {
       "model_id": "772ec57f977842c3b2cd0c95f95c33a0",
       "version_major": 2,
       "version_minor": 0
      },
      "text/plain": [
       "VBox(children=(HBox(children=(Dropdown(description='Variable :', options=('ALT[m]', 'Tisa[K]', 'TAS[m/s]', 'Vz…"
      ]
     },
     "metadata": {},
     "output_type": "display_data"
    }
   ],
   "source": [
    "ds.plot()"
   ]
  },
  {
   "cell_type": "markdown",
   "metadata": {},
   "source": [
    "## Construction d'un tube\n",
    "\n",
    "Un tube est un couple de deux courbes qui devraint délimiter les zônes acceptables pour un signal. Pour construire nos tubes nous utilisons une populatuon de régressions. Ces régressions seront appliquées à de petits nombres de facteurs et apprises sur un échantillonnage des points.\n",
    "\n",
    "Les maximum et minimum de ces rgressions vont donner un gabarit au tube. On appliquera finalement à ce gabarit un facteur multiplicatif."
   ]
  },
  {
   "cell_type": "markdown",
   "metadata": {},
   "source": [
    "### Variables et facteurs\n",
    "\n",
    "Nous ne calculons de tubes que pour les variables sélectionnées dans l'ensemble défini par la variable `.variables`.\n",
    "Les facteurs exploités par les régressions sont à prendre dans `.factors`.\n",
    "\n",
    "Par défaut seule la première variable des signaux ne sera exploitée et toutes les autres serviront de facteurs."
   ]
  },
  {
   "cell_type": "code",
   "execution_count": null,
   "metadata": {},
   "outputs": [
    {
     "data": {
      "text/plain": [
       "OPSET 'data/out/AFL1EB_CB.h5' de 48 signaux.\n",
       "        position courante : sigpos  = 0\n",
       "        variable courante : colname = ALT[m]\n",
       "        phase surlignée   : phase   = None\n",
       "TUBE : on 2 variables."
      ]
     },
     "execution_count": 12,
     "metadata": {},
     "output_type": "execute_result"
    }
   ],
   "source": [
    "T = Tube(E.storename)\n",
    "T.variables = {\"ALT[m]\", \"Tisa[K]\"}\n",
    "T.fit()"
   ]
  },
  {
   "cell_type": "markdown",
   "metadata": {},
   "source": [
    "La description du tube donne le détail des apprentissages."
   ]
  },
  {
   "cell_type": "code",
   "execution_count": null,
   "metadata": {},
   "outputs": [
    {
     "data": {
      "text/html": [
       "<div>\n",
       "<style scoped>\n",
       "    .dataframe tbody tr th:only-of-type {\n",
       "        vertical-align: middle;\n",
       "    }\n",
       "\n",
       "    .dataframe tbody tr th {\n",
       "        vertical-align: top;\n",
       "    }\n",
       "\n",
       "    .dataframe thead th {\n",
       "        text-align: right;\n",
       "    }\n",
       "</style>\n",
       "<table border=\"1\" class=\"dataframe\">\n",
       "  <thead>\n",
       "    <tr style=\"text-align: right;\">\n",
       "      <th></th>\n",
       "      <th>ALT[m]</th>\n",
       "      <th>Tisa[K]</th>\n",
       "      <th>TAS[m/s]</th>\n",
       "      <th>Vz[m/s]</th>\n",
       "      <th>Masse[kg]</th>\n",
       "      <th>F[N]</th>\n",
       "      <th>CR</th>\n",
       "      <th>TIME</th>\n",
       "      <th>MEDIAN</th>\n",
       "      <th>CAUSAL</th>\n",
       "    </tr>\n",
       "    <tr>\n",
       "      <th>Regresions</th>\n",
       "      <th></th>\n",
       "      <th></th>\n",
       "      <th></th>\n",
       "      <th></th>\n",
       "      <th></th>\n",
       "      <th></th>\n",
       "      <th></th>\n",
       "      <th></th>\n",
       "      <th></th>\n",
       "      <th></th>\n",
       "    </tr>\n",
       "  </thead>\n",
       "  <tbody>\n",
       "    <tr>\n",
       "      <th>ALT[m]</th>\n",
       "      <td>0</td>\n",
       "      <td>5</td>\n",
       "      <td>3</td>\n",
       "      <td>4</td>\n",
       "      <td>2</td>\n",
       "      <td>4</td>\n",
       "      <td>4</td>\n",
       "      <td>0</td>\n",
       "      <td>0</td>\n",
       "      <td>0</td>\n",
       "    </tr>\n",
       "    <tr>\n",
       "      <th>Tisa[K]</th>\n",
       "      <td>5</td>\n",
       "      <td>0</td>\n",
       "      <td>4</td>\n",
       "      <td>2</td>\n",
       "      <td>4</td>\n",
       "      <td>3</td>\n",
       "      <td>4</td>\n",
       "      <td>0</td>\n",
       "      <td>0</td>\n",
       "      <td>0</td>\n",
       "    </tr>\n",
       "  </tbody>\n",
       "</table>\n",
       "</div>"
      ],
      "text/plain": [
       "            ALT[m]  Tisa[K]  TAS[m/s]  Vz[m/s]  Masse[kg]  F[N]  CR  TIME  \\\n",
       "Regresions                                                                  \n",
       "ALT[m]           0        5         3        4          2     4   4     0   \n",
       "Tisa[K]          5        0         4        2          4     3   4     0   \n",
       "\n",
       "            MEDIAN  CAUSAL  \n",
       "Regresions                  \n",
       "ALT[m]           0       0  \n",
       "Tisa[K]          0       0  "
      ]
     },
     "execution_count": 13,
     "metadata": {},
     "output_type": "execute_result"
    }
   ],
   "source": [
    "T.describe()"
   ]
  },
  {
   "cell_type": "markdown",
   "metadata": {},
   "source": [
    "Ce DataFrame dispose de lignes correspondant chacune à un modèle et les ciolonnes comptabilisent le nombre de fois qu'un facteur est utilisé."
   ]
  },
  {
   "cell_type": "markdown",
   "metadata": {},
   "source": [
    "### Paramétrage de l'apprentissage\n",
    "\n",
    "Les paramètres de l'apprentissage sont stockés dans le dictionnaire `.learn_params`."
   ]
  },
  {
   "cell_type": "code",
   "execution_count": null,
   "metadata": {},
   "outputs": [
    {
     "data": {
      "text/plain": [
       "{'retry_number': 10,\n",
       " 'keep_best_number': 5,\n",
       " 'samples_percent': 0.01,\n",
       " 'max_features': 5}"
      ]
     },
     "execution_count": 14,
     "metadata": {},
     "output_type": "execute_result"
    }
   ],
   "source": [
    "T.learn_params"
   ]
  },
  {
   "cell_type": "markdown",
   "metadata": {},
   "source": [
    "le nombre de régressions testées par modèle est défini par `retry_number` mais au final seules les meilleures `keep_best_number` seront conservées en fonction de leur coefficient $R^2$.\n",
    "\n",
    "Les deux autres paramètres, `samples_percent` donne le taux d'échantillonnage por l'apprentissage et le test, `max_features`, le nombre maximum de facteurs utilisables par régression."
   ]
  },
  {
   "cell_type": "markdown",
   "metadata": {},
   "source": [
    "### Facteurs supplémentaires\n",
    "Il est possible de rajouter des facteurs supplémentaires. \n",
    "En fait, à terme il derait être possible de construire des modèles plus complexes, par exemple en rajoutant des interactions. Mais pour l'instant seuls deux facteurs supplémentaires sont sélectionnables.\n",
    "\n",
    "Ils sont définis par le dictionnaire `.feature_params`."
   ]
  },
  {
   "cell_type": "code",
   "execution_count": null,
   "metadata": {},
   "outputs": [
    {
     "data": {
      "text/plain": [
       "{'local_value': 'Absolute', 'use_time': 'No'}"
      ]
     },
     "execution_count": 15,
     "metadata": {},
     "output_type": "execute_result"
    }
   ],
   "source": [
    "T.feature_params"
   ]
  },
  {
   "cell_type": "markdown",
   "metadata": {},
   "source": [
    "`local_value` peut prendre l'une des trois valeurs :\n",
    "- 'Absolute' (par défaut) correspond à ne pas rajouter de variable supplémentaire.\n",
    "- 'Median' rajoute la variable 'MEDIAN' constante égale à la médiane du signal à modéliser (pour avoir une estimation relative de l'écart à la médiane).\n",
    "- 'Causal' rajoute une variable 'CAUSAL' constante égale à la première valeur du signal à prédire\n",
    "\n",
    "`use_time` peut prendre l'une des deux valeurs :\n",
    "- 'No' (par défaut) consiste à ne rien ajouter au signal.\n",
    "- 'Yes' permet d'ajouter une variable 'TIME' correspondant aux numéro de chaque point de la courbe."
   ]
  },
  {
   "cell_type": "markdown",
   "metadata": {},
   "source": [
    "### Gabarit du tube\n",
    "\n",
    "Pour l'instant le gabrit du tube est fixé \"à la main\" par l'élément `tube_factor` du dictionnaire `.tube_params`."
   ]
  },
  {
   "cell_type": "code",
   "execution_count": null,
   "metadata": {},
   "outputs": [
    {
     "data": {
      "text/plain": [
       "{'tube_factor': 10.0, 'filter_width': 20}"
      ]
     },
     "execution_count": 16,
     "metadata": {},
     "output_type": "execute_result"
    }
   ],
   "source": [
    "T.tube_params"
   ]
  },
  {
   "cell_type": "markdown",
   "metadata": {},
   "source": [
    "A terme il va falloir remplacer cette valeur par une proportion des points du signal que l'on suppose hors-tube. Le mieux étant d'estimer une loi de pareto généralisée au delà du tube pour identifier une vrai probabilité d'anomalie (à faire)."
   ]
  },
  {
   "cell_type": "markdown",
   "metadata": {},
   "source": [
    "Une autre valeur de ce dictionnaire: `filter_width` permet de lisser le tube."
   ]
  },
  {
   "cell_type": "markdown",
   "metadata": {},
   "source": [
    "## Estimation et scores\n",
    "\n",
    "La méthode `estimate()` permet de récupérer les bornes du tube et la valeur moyenne pour une variable sous la forme de trois vecteurs.\n",
    "\n",
    "Trois fonctions calculent les scores correspondant aux nombre de points hors-tube. A chaque fois, un DataFrame de résultats est renvoyé."
   ]
  },
  {
   "cell_type": "code",
   "execution_count": null,
   "metadata": {},
   "outputs": [],
   "source": [
    "z,zmin,zmax = T.rewind(3).estimate(\"ALT[m]\")"
   ]
  },
  {
   "cell_type": "markdown",
   "metadata": {},
   "source": [
    "`local_scores()` renvoie les scores de l'enregistrement courant.\n",
    "La première colonne est le nombre de points de l'enregistrement, et chaque colonne suivante donne le nombre de points \"hors-tube\"."
   ]
  },
  {
   "cell_type": "code",
   "execution_count": null,
   "metadata": {},
   "outputs": [
    {
     "data": {
      "text/html": [
       "<div>\n",
       "<style scoped>\n",
       "    .dataframe tbody tr th:only-of-type {\n",
       "        vertical-align: middle;\n",
       "    }\n",
       "\n",
       "    .dataframe tbody tr th {\n",
       "        vertical-align: top;\n",
       "    }\n",
       "\n",
       "    .dataframe thead th {\n",
       "        text-align: right;\n",
       "    }\n",
       "</style>\n",
       "<table border=\"1\" class=\"dataframe\">\n",
       "  <thead>\n",
       "    <tr style=\"text-align: right;\">\n",
       "      <th></th>\n",
       "      <th>N</th>\n",
       "      <th>ALT[m]</th>\n",
       "      <th>Tisa[K]</th>\n",
       "    </tr>\n",
       "  </thead>\n",
       "  <tbody>\n",
       "    <tr>\n",
       "      <th>/record_03</th>\n",
       "      <td>2131</td>\n",
       "      <td>2</td>\n",
       "      <td>837</td>\n",
       "    </tr>\n",
       "  </tbody>\n",
       "</table>\n",
       "</div>"
      ],
      "text/plain": [
       "               N  ALT[m]  Tisa[K]\n",
       "/record_03  2131       2      837"
      ]
     },
     "execution_count": 18,
     "metadata": {},
     "output_type": "execute_result"
    }
   ],
   "source": [
    "T.local_scores()"
   ]
  },
  {
   "cell_type": "markdown",
   "metadata": {},
   "source": [
    "`scores()` calcule tous les scores de l'Opset. La première colonne correspond au nombre de point du signal."
   ]
  },
  {
   "cell_type": "code",
   "execution_count": null,
   "metadata": {},
   "outputs": [
    {
     "data": {
      "text/html": [
       "<div>\n",
       "<style scoped>\n",
       "    .dataframe tbody tr th:only-of-type {\n",
       "        vertical-align: middle;\n",
       "    }\n",
       "\n",
       "    .dataframe tbody tr th {\n",
       "        vertical-align: top;\n",
       "    }\n",
       "\n",
       "    .dataframe thead th {\n",
       "        text-align: right;\n",
       "    }\n",
       "</style>\n",
       "<table border=\"1\" class=\"dataframe\">\n",
       "  <thead>\n",
       "    <tr style=\"text-align: right;\">\n",
       "      <th></th>\n",
       "      <th>N</th>\n",
       "      <th>ALT[m]</th>\n",
       "      <th>Tisa[K]</th>\n",
       "    </tr>\n",
       "  </thead>\n",
       "  <tbody>\n",
       "    <tr>\n",
       "      <th>/record_00</th>\n",
       "      <td>3590</td>\n",
       "      <td>2</td>\n",
       "      <td>2</td>\n",
       "    </tr>\n",
       "    <tr>\n",
       "      <th>/record_01</th>\n",
       "      <td>3316</td>\n",
       "      <td>3</td>\n",
       "      <td>3</td>\n",
       "    </tr>\n",
       "    <tr>\n",
       "      <th>/record_02</th>\n",
       "      <td>3048</td>\n",
       "      <td>209</td>\n",
       "      <td>109</td>\n",
       "    </tr>\n",
       "    <tr>\n",
       "      <th>/record_03</th>\n",
       "      <td>2131</td>\n",
       "      <td>2</td>\n",
       "      <td>837</td>\n",
       "    </tr>\n",
       "    <tr>\n",
       "      <th>/record_04</th>\n",
       "      <td>722</td>\n",
       "      <td>0</td>\n",
       "      <td>683</td>\n",
       "    </tr>\n",
       "    <tr>\n",
       "      <th>/record_05</th>\n",
       "      <td>416</td>\n",
       "      <td>393</td>\n",
       "      <td>377</td>\n",
       "    </tr>\n",
       "    <tr>\n",
       "      <th>/record_10</th>\n",
       "      <td>400</td>\n",
       "      <td>0</td>\n",
       "      <td>19</td>\n",
       "    </tr>\n",
       "    <tr>\n",
       "      <th>/record_11</th>\n",
       "      <td>3374</td>\n",
       "      <td>1</td>\n",
       "      <td>1</td>\n",
       "    </tr>\n",
       "    <tr>\n",
       "      <th>/record_12</th>\n",
       "      <td>2379</td>\n",
       "      <td>1</td>\n",
       "      <td>398</td>\n",
       "    </tr>\n",
       "    <tr>\n",
       "      <th>/record_13</th>\n",
       "      <td>2715</td>\n",
       "      <td>24</td>\n",
       "      <td>101</td>\n",
       "    </tr>\n",
       "    <tr>\n",
       "      <th>/record_14</th>\n",
       "      <td>3803</td>\n",
       "      <td>13</td>\n",
       "      <td>575</td>\n",
       "    </tr>\n",
       "    <tr>\n",
       "      <th>/record_15</th>\n",
       "      <td>3606</td>\n",
       "      <td>22</td>\n",
       "      <td>147</td>\n",
       "    </tr>\n",
       "    <tr>\n",
       "      <th>/record_16</th>\n",
       "      <td>3337</td>\n",
       "      <td>12</td>\n",
       "      <td>28</td>\n",
       "    </tr>\n",
       "    <tr>\n",
       "      <th>/record_17</th>\n",
       "      <td>2715</td>\n",
       "      <td>0</td>\n",
       "      <td>0</td>\n",
       "    </tr>\n",
       "    <tr>\n",
       "      <th>/record_18</th>\n",
       "      <td>3939</td>\n",
       "      <td>14</td>\n",
       "      <td>945</td>\n",
       "    </tr>\n",
       "    <tr>\n",
       "      <th>/record_19</th>\n",
       "      <td>3603</td>\n",
       "      <td>3</td>\n",
       "      <td>8</td>\n",
       "    </tr>\n",
       "    <tr>\n",
       "      <th>/record_20</th>\n",
       "      <td>2537</td>\n",
       "      <td>3</td>\n",
       "      <td>15</td>\n",
       "    </tr>\n",
       "    <tr>\n",
       "      <th>/record_21</th>\n",
       "      <td>1529</td>\n",
       "      <td>3</td>\n",
       "      <td>4</td>\n",
       "    </tr>\n",
       "    <tr>\n",
       "      <th>/record_22</th>\n",
       "      <td>4296</td>\n",
       "      <td>0</td>\n",
       "      <td>7</td>\n",
       "    </tr>\n",
       "    <tr>\n",
       "      <th>/record_23</th>\n",
       "      <td>5003</td>\n",
       "      <td>0</td>\n",
       "      <td>46</td>\n",
       "    </tr>\n",
       "    <tr>\n",
       "      <th>/record_24</th>\n",
       "      <td>4379</td>\n",
       "      <td>4</td>\n",
       "      <td>1330</td>\n",
       "    </tr>\n",
       "    <tr>\n",
       "      <th>/record_25</th>\n",
       "      <td>2600</td>\n",
       "      <td>0</td>\n",
       "      <td>0</td>\n",
       "    </tr>\n",
       "    <tr>\n",
       "      <th>/record_26</th>\n",
       "      <td>3888</td>\n",
       "      <td>2</td>\n",
       "      <td>3</td>\n",
       "    </tr>\n",
       "    <tr>\n",
       "      <th>/record_27</th>\n",
       "      <td>2993</td>\n",
       "      <td>22</td>\n",
       "      <td>52</td>\n",
       "    </tr>\n",
       "    <tr>\n",
       "      <th>/record_28</th>\n",
       "      <td>1308</td>\n",
       "      <td>0</td>\n",
       "      <td>84</td>\n",
       "    </tr>\n",
       "    <tr>\n",
       "      <th>/record_29</th>\n",
       "      <td>2310</td>\n",
       "      <td>4</td>\n",
       "      <td>29</td>\n",
       "    </tr>\n",
       "    <tr>\n",
       "      <th>/record_30</th>\n",
       "      <td>596</td>\n",
       "      <td>10</td>\n",
       "      <td>12</td>\n",
       "    </tr>\n",
       "    <tr>\n",
       "      <th>/record_31</th>\n",
       "      <td>834</td>\n",
       "      <td>13</td>\n",
       "      <td>27</td>\n",
       "    </tr>\n",
       "    <tr>\n",
       "      <th>/record_32</th>\n",
       "      <td>8559</td>\n",
       "      <td>188</td>\n",
       "      <td>1425</td>\n",
       "    </tr>\n",
       "    <tr>\n",
       "      <th>/record_33</th>\n",
       "      <td>7434</td>\n",
       "      <td>3</td>\n",
       "      <td>53</td>\n",
       "    </tr>\n",
       "    <tr>\n",
       "      <th>/record_34</th>\n",
       "      <td>2987</td>\n",
       "      <td>2</td>\n",
       "      <td>3</td>\n",
       "    </tr>\n",
       "    <tr>\n",
       "      <th>/record_35</th>\n",
       "      <td>2898</td>\n",
       "      <td>2</td>\n",
       "      <td>2</td>\n",
       "    </tr>\n",
       "    <tr>\n",
       "      <th>/record_36</th>\n",
       "      <td>6242</td>\n",
       "      <td>0</td>\n",
       "      <td>1648</td>\n",
       "    </tr>\n",
       "    <tr>\n",
       "      <th>/record_37</th>\n",
       "      <td>5173</td>\n",
       "      <td>4461</td>\n",
       "      <td>4518</td>\n",
       "    </tr>\n",
       "    <tr>\n",
       "      <th>/record_38</th>\n",
       "      <td>2608</td>\n",
       "      <td>3</td>\n",
       "      <td>19</td>\n",
       "    </tr>\n",
       "    <tr>\n",
       "      <th>/record_39</th>\n",
       "      <td>3701</td>\n",
       "      <td>1</td>\n",
       "      <td>1</td>\n",
       "    </tr>\n",
       "    <tr>\n",
       "      <th>/record_40</th>\n",
       "      <td>4464</td>\n",
       "      <td>2</td>\n",
       "      <td>2</td>\n",
       "    </tr>\n",
       "    <tr>\n",
       "      <th>/record_41</th>\n",
       "      <td>5093</td>\n",
       "      <td>2</td>\n",
       "      <td>29</td>\n",
       "    </tr>\n",
       "    <tr>\n",
       "      <th>/record_42</th>\n",
       "      <td>4301</td>\n",
       "      <td>0</td>\n",
       "      <td>1</td>\n",
       "    </tr>\n",
       "    <tr>\n",
       "      <th>/record_43</th>\n",
       "      <td>3860</td>\n",
       "      <td>38</td>\n",
       "      <td>91</td>\n",
       "    </tr>\n",
       "    <tr>\n",
       "      <th>/record_44</th>\n",
       "      <td>2602</td>\n",
       "      <td>43</td>\n",
       "      <td>1630</td>\n",
       "    </tr>\n",
       "    <tr>\n",
       "      <th>/record_45</th>\n",
       "      <td>3097</td>\n",
       "      <td>0</td>\n",
       "      <td>0</td>\n",
       "    </tr>\n",
       "    <tr>\n",
       "      <th>/record_46</th>\n",
       "      <td>3706</td>\n",
       "      <td>443</td>\n",
       "      <td>2203</td>\n",
       "    </tr>\n",
       "    <tr>\n",
       "      <th>/record_47</th>\n",
       "      <td>4699</td>\n",
       "      <td>552</td>\n",
       "      <td>599</td>\n",
       "    </tr>\n",
       "    <tr>\n",
       "      <th>/record_48</th>\n",
       "      <td>5841</td>\n",
       "      <td>3</td>\n",
       "      <td>4</td>\n",
       "    </tr>\n",
       "    <tr>\n",
       "      <th>/record_49</th>\n",
       "      <td>6472</td>\n",
       "      <td>520</td>\n",
       "      <td>671</td>\n",
       "    </tr>\n",
       "    <tr>\n",
       "      <th>/record_50</th>\n",
       "      <td>763</td>\n",
       "      <td>109</td>\n",
       "      <td>92</td>\n",
       "    </tr>\n",
       "    <tr>\n",
       "      <th>/record_51</th>\n",
       "      <td>4955</td>\n",
       "      <td>25</td>\n",
       "      <td>12</td>\n",
       "    </tr>\n",
       "  </tbody>\n",
       "</table>\n",
       "</div>"
      ],
      "text/plain": [
       "               N  ALT[m]  Tisa[K]\n",
       "/record_00  3590       2        2\n",
       "/record_01  3316       3        3\n",
       "/record_02  3048     209      109\n",
       "/record_03  2131       2      837\n",
       "/record_04   722       0      683\n",
       "/record_05   416     393      377\n",
       "/record_10   400       0       19\n",
       "/record_11  3374       1        1\n",
       "/record_12  2379       1      398\n",
       "/record_13  2715      24      101\n",
       "/record_14  3803      13      575\n",
       "/record_15  3606      22      147\n",
       "/record_16  3337      12       28\n",
       "/record_17  2715       0        0\n",
       "/record_18  3939      14      945\n",
       "/record_19  3603       3        8\n",
       "/record_20  2537       3       15\n",
       "/record_21  1529       3        4\n",
       "/record_22  4296       0        7\n",
       "/record_23  5003       0       46\n",
       "/record_24  4379       4     1330\n",
       "/record_25  2600       0        0\n",
       "/record_26  3888       2        3\n",
       "/record_27  2993      22       52\n",
       "/record_28  1308       0       84\n",
       "/record_29  2310       4       29\n",
       "/record_30   596      10       12\n",
       "/record_31   834      13       27\n",
       "/record_32  8559     188     1425\n",
       "/record_33  7434       3       53\n",
       "/record_34  2987       2        3\n",
       "/record_35  2898       2        2\n",
       "/record_36  6242       0     1648\n",
       "/record_37  5173    4461     4518\n",
       "/record_38  2608       3       19\n",
       "/record_39  3701       1        1\n",
       "/record_40  4464       2        2\n",
       "/record_41  5093       2       29\n",
       "/record_42  4301       0        1\n",
       "/record_43  3860      38       91\n",
       "/record_44  2602      43     1630\n",
       "/record_45  3097       0        0\n",
       "/record_46  3706     443     2203\n",
       "/record_47  4699     552      599\n",
       "/record_48  5841       3        4\n",
       "/record_49  6472     520      671\n",
       "/record_50   763     109       92\n",
       "/record_51  4955      25       12"
      ]
     },
     "execution_count": 19,
     "metadata": {},
     "output_type": "execute_result"
    }
   ],
   "source": [
    "T.scores()"
   ]
  },
  {
   "cell_type": "markdown",
   "metadata": {},
   "source": [
    "Finalement `plot_scores()` donne les résultats de manière graphique. après calcul de la proportion de poinst \"hors-tube\" par signal."
   ]
  },
  {
   "cell_type": "markdown",
   "metadata": {},
   "source": [
    "Le cas des longueurs d'intervalles vides pose encore des problème. Si c'est le cas c'est que les instants sont mal calculés, mais cela peut toujours arriver."
   ]
  },
  {
   "cell_type": "code",
   "execution_count": null,
   "metadata": {},
   "outputs": [
    {
     "data": {
      "application/vnd.plotly.v1+json": {
       "config": {
        "plotlyServerURL": "https://plot.ly"
       },
       "data": [
        {
         "name": "ALT[m]",
         "type": "bar",
         "x": [
          "/record_00",
          "/record_01",
          "/record_02",
          "/record_03",
          "/record_04",
          "/record_05",
          "/record_10",
          "/record_11",
          "/record_12",
          "/record_13",
          "/record_14",
          "/record_15",
          "/record_16",
          "/record_17",
          "/record_18",
          "/record_19",
          "/record_20",
          "/record_21",
          "/record_22",
          "/record_23",
          "/record_24",
          "/record_25",
          "/record_26",
          "/record_27",
          "/record_28",
          "/record_29",
          "/record_30",
          "/record_31",
          "/record_32",
          "/record_33",
          "/record_34",
          "/record_35",
          "/record_36",
          "/record_37",
          "/record_38",
          "/record_39",
          "/record_40",
          "/record_41",
          "/record_42",
          "/record_43",
          "/record_44",
          "/record_45",
          "/record_46",
          "/record_47",
          "/record_48",
          "/record_49",
          "/record_50",
          "/record_51"
         ],
         "y": [
          0.0005571030640668524,
          0.0009047044632086852,
          0.06856955380577427,
          0.0009385265133740028,
          0,
          0.9447115384615384,
          0,
          0.0002963841138114997,
          0.0004203446826397646,
          0.008839779005524863,
          0.0034183539311070208,
          0.006100942872989462,
          0.003596044351213665,
          0,
          0.003554201574003554,
          0.0008326394671107411,
          0.0011824990145841545,
          0.001962066710268149,
          0,
          0,
          0.0009134505594884677,
          0,
          0.00051440329218107,
          0.007350484463748747,
          0,
          0.0017316017316017316,
          0.016778523489932886,
          0.015587529976019185,
          0.021965182848463605,
          0.0004035512510088781,
          0.0006695681285570807,
          0.0006901311249137336,
          0,
          0.8623622656098976,
          0.0011503067484662577,
          0.0002701972439881113,
          0.00044802867383512545,
          0.00039269585705870805,
          0,
          0.009844559585492229,
          0.016525749423520367,
          0,
          0.11953588774959525,
          0.11747180251117259,
          0.0005136106831022085,
          0.08034610630407911,
          0.14285714285714285,
          0.005045408678102927
         ]
        },
        {
         "name": "Tisa[K]",
         "type": "bar",
         "x": [
          "/record_00",
          "/record_01",
          "/record_02",
          "/record_03",
          "/record_04",
          "/record_05",
          "/record_10",
          "/record_11",
          "/record_12",
          "/record_13",
          "/record_14",
          "/record_15",
          "/record_16",
          "/record_17",
          "/record_18",
          "/record_19",
          "/record_20",
          "/record_21",
          "/record_22",
          "/record_23",
          "/record_24",
          "/record_25",
          "/record_26",
          "/record_27",
          "/record_28",
          "/record_29",
          "/record_30",
          "/record_31",
          "/record_32",
          "/record_33",
          "/record_34",
          "/record_35",
          "/record_36",
          "/record_37",
          "/record_38",
          "/record_39",
          "/record_40",
          "/record_41",
          "/record_42",
          "/record_43",
          "/record_44",
          "/record_45",
          "/record_46",
          "/record_47",
          "/record_48",
          "/record_49",
          "/record_50",
          "/record_51"
         ],
         "y": [
          0.0005571030640668524,
          0.0009047044632086852,
          0.035761154855643046,
          0.39277334584702017,
          0.945983379501385,
          0.90625,
          0.0475,
          0.0002963841138114997,
          0.16729718369062632,
          0.03720073664825046,
          0.15119642387588747,
          0.04076539101497504,
          0.008390770152831885,
          0,
          0.2399086062452399,
          0.0022203719122953097,
          0.005912495072920773,
          0.002616088947024199,
          0.0016294227188081937,
          0.009194483310013992,
          0.3037223110299155,
          0,
          0.0007716049382716049,
          0.017373872368860673,
          0.06422018348623854,
          0.012554112554112554,
          0.020134228187919462,
          0.03237410071942446,
          0.16649141254819488,
          0.00712940543449018,
          0.001004352192835621,
          0.0006901311249137336,
          0.26401794296699777,
          0.873381016818094,
          0.0072852760736196315,
          0.0002701972439881113,
          0.00044802867383512545,
          0.005694089927351266,
          0.00023250406882120437,
          0.023575129533678758,
          0.6264411990776326,
          0,
          0.594441446303292,
          0.12747393062353693,
          0.000684814244136278,
          0.10367737948084055,
          0.12057667103538663,
          0.0024217961654894047
         ]
        }
       ],
       "layout": {
        "barmode": "stack",
        "template": {
         "data": {
          "bar": [
           {
            "error_x": {
             "color": "#2a3f5f"
            },
            "error_y": {
             "color": "#2a3f5f"
            },
            "marker": {
             "line": {
              "color": "#E5ECF6",
              "width": 0.5
             },
             "pattern": {
              "fillmode": "overlay",
              "size": 10,
              "solidity": 0.2
             }
            },
            "type": "bar"
           }
          ],
          "barpolar": [
           {
            "marker": {
             "line": {
              "color": "#E5ECF6",
              "width": 0.5
             },
             "pattern": {
              "fillmode": "overlay",
              "size": 10,
              "solidity": 0.2
             }
            },
            "type": "barpolar"
           }
          ],
          "carpet": [
           {
            "aaxis": {
             "endlinecolor": "#2a3f5f",
             "gridcolor": "white",
             "linecolor": "white",
             "minorgridcolor": "white",
             "startlinecolor": "#2a3f5f"
            },
            "baxis": {
             "endlinecolor": "#2a3f5f",
             "gridcolor": "white",
             "linecolor": "white",
             "minorgridcolor": "white",
             "startlinecolor": "#2a3f5f"
            },
            "type": "carpet"
           }
          ],
          "choropleth": [
           {
            "colorbar": {
             "outlinewidth": 0,
             "ticks": ""
            },
            "type": "choropleth"
           }
          ],
          "contour": [
           {
            "colorbar": {
             "outlinewidth": 0,
             "ticks": ""
            },
            "colorscale": [
             [
              0,
              "#0d0887"
             ],
             [
              0.1111111111111111,
              "#46039f"
             ],
             [
              0.2222222222222222,
              "#7201a8"
             ],
             [
              0.3333333333333333,
              "#9c179e"
             ],
             [
              0.4444444444444444,
              "#bd3786"
             ],
             [
              0.5555555555555556,
              "#d8576b"
             ],
             [
              0.6666666666666666,
              "#ed7953"
             ],
             [
              0.7777777777777778,
              "#fb9f3a"
             ],
             [
              0.8888888888888888,
              "#fdca26"
             ],
             [
              1,
              "#f0f921"
             ]
            ],
            "type": "contour"
           }
          ],
          "contourcarpet": [
           {
            "colorbar": {
             "outlinewidth": 0,
             "ticks": ""
            },
            "type": "contourcarpet"
           }
          ],
          "heatmap": [
           {
            "colorbar": {
             "outlinewidth": 0,
             "ticks": ""
            },
            "colorscale": [
             [
              0,
              "#0d0887"
             ],
             [
              0.1111111111111111,
              "#46039f"
             ],
             [
              0.2222222222222222,
              "#7201a8"
             ],
             [
              0.3333333333333333,
              "#9c179e"
             ],
             [
              0.4444444444444444,
              "#bd3786"
             ],
             [
              0.5555555555555556,
              "#d8576b"
             ],
             [
              0.6666666666666666,
              "#ed7953"
             ],
             [
              0.7777777777777778,
              "#fb9f3a"
             ],
             [
              0.8888888888888888,
              "#fdca26"
             ],
             [
              1,
              "#f0f921"
             ]
            ],
            "type": "heatmap"
           }
          ],
          "heatmapgl": [
           {
            "colorbar": {
             "outlinewidth": 0,
             "ticks": ""
            },
            "colorscale": [
             [
              0,
              "#0d0887"
             ],
             [
              0.1111111111111111,
              "#46039f"
             ],
             [
              0.2222222222222222,
              "#7201a8"
             ],
             [
              0.3333333333333333,
              "#9c179e"
             ],
             [
              0.4444444444444444,
              "#bd3786"
             ],
             [
              0.5555555555555556,
              "#d8576b"
             ],
             [
              0.6666666666666666,
              "#ed7953"
             ],
             [
              0.7777777777777778,
              "#fb9f3a"
             ],
             [
              0.8888888888888888,
              "#fdca26"
             ],
             [
              1,
              "#f0f921"
             ]
            ],
            "type": "heatmapgl"
           }
          ],
          "histogram": [
           {
            "marker": {
             "pattern": {
              "fillmode": "overlay",
              "size": 10,
              "solidity": 0.2
             }
            },
            "type": "histogram"
           }
          ],
          "histogram2d": [
           {
            "colorbar": {
             "outlinewidth": 0,
             "ticks": ""
            },
            "colorscale": [
             [
              0,
              "#0d0887"
             ],
             [
              0.1111111111111111,
              "#46039f"
             ],
             [
              0.2222222222222222,
              "#7201a8"
             ],
             [
              0.3333333333333333,
              "#9c179e"
             ],
             [
              0.4444444444444444,
              "#bd3786"
             ],
             [
              0.5555555555555556,
              "#d8576b"
             ],
             [
              0.6666666666666666,
              "#ed7953"
             ],
             [
              0.7777777777777778,
              "#fb9f3a"
             ],
             [
              0.8888888888888888,
              "#fdca26"
             ],
             [
              1,
              "#f0f921"
             ]
            ],
            "type": "histogram2d"
           }
          ],
          "histogram2dcontour": [
           {
            "colorbar": {
             "outlinewidth": 0,
             "ticks": ""
            },
            "colorscale": [
             [
              0,
              "#0d0887"
             ],
             [
              0.1111111111111111,
              "#46039f"
             ],
             [
              0.2222222222222222,
              "#7201a8"
             ],
             [
              0.3333333333333333,
              "#9c179e"
             ],
             [
              0.4444444444444444,
              "#bd3786"
             ],
             [
              0.5555555555555556,
              "#d8576b"
             ],
             [
              0.6666666666666666,
              "#ed7953"
             ],
             [
              0.7777777777777778,
              "#fb9f3a"
             ],
             [
              0.8888888888888888,
              "#fdca26"
             ],
             [
              1,
              "#f0f921"
             ]
            ],
            "type": "histogram2dcontour"
           }
          ],
          "mesh3d": [
           {
            "colorbar": {
             "outlinewidth": 0,
             "ticks": ""
            },
            "type": "mesh3d"
           }
          ],
          "parcoords": [
           {
            "line": {
             "colorbar": {
              "outlinewidth": 0,
              "ticks": ""
             }
            },
            "type": "parcoords"
           }
          ],
          "pie": [
           {
            "automargin": true,
            "type": "pie"
           }
          ],
          "scatter": [
           {
            "fillpattern": {
             "fillmode": "overlay",
             "size": 10,
             "solidity": 0.2
            },
            "type": "scatter"
           }
          ],
          "scatter3d": [
           {
            "line": {
             "colorbar": {
              "outlinewidth": 0,
              "ticks": ""
             }
            },
            "marker": {
             "colorbar": {
              "outlinewidth": 0,
              "ticks": ""
             }
            },
            "type": "scatter3d"
           }
          ],
          "scattercarpet": [
           {
            "marker": {
             "colorbar": {
              "outlinewidth": 0,
              "ticks": ""
             }
            },
            "type": "scattercarpet"
           }
          ],
          "scattergeo": [
           {
            "marker": {
             "colorbar": {
              "outlinewidth": 0,
              "ticks": ""
             }
            },
            "type": "scattergeo"
           }
          ],
          "scattergl": [
           {
            "marker": {
             "colorbar": {
              "outlinewidth": 0,
              "ticks": ""
             }
            },
            "type": "scattergl"
           }
          ],
          "scattermapbox": [
           {
            "marker": {
             "colorbar": {
              "outlinewidth": 0,
              "ticks": ""
             }
            },
            "type": "scattermapbox"
           }
          ],
          "scatterpolar": [
           {
            "marker": {
             "colorbar": {
              "outlinewidth": 0,
              "ticks": ""
             }
            },
            "type": "scatterpolar"
           }
          ],
          "scatterpolargl": [
           {
            "marker": {
             "colorbar": {
              "outlinewidth": 0,
              "ticks": ""
             }
            },
            "type": "scatterpolargl"
           }
          ],
          "scatterternary": [
           {
            "marker": {
             "colorbar": {
              "outlinewidth": 0,
              "ticks": ""
             }
            },
            "type": "scatterternary"
           }
          ],
          "surface": [
           {
            "colorbar": {
             "outlinewidth": 0,
             "ticks": ""
            },
            "colorscale": [
             [
              0,
              "#0d0887"
             ],
             [
              0.1111111111111111,
              "#46039f"
             ],
             [
              0.2222222222222222,
              "#7201a8"
             ],
             [
              0.3333333333333333,
              "#9c179e"
             ],
             [
              0.4444444444444444,
              "#bd3786"
             ],
             [
              0.5555555555555556,
              "#d8576b"
             ],
             [
              0.6666666666666666,
              "#ed7953"
             ],
             [
              0.7777777777777778,
              "#fb9f3a"
             ],
             [
              0.8888888888888888,
              "#fdca26"
             ],
             [
              1,
              "#f0f921"
             ]
            ],
            "type": "surface"
           }
          ],
          "table": [
           {
            "cells": {
             "fill": {
              "color": "#EBF0F8"
             },
             "line": {
              "color": "white"
             }
            },
            "header": {
             "fill": {
              "color": "#C8D4E3"
             },
             "line": {
              "color": "white"
             }
            },
            "type": "table"
           }
          ]
         },
         "layout": {
          "annotationdefaults": {
           "arrowcolor": "#2a3f5f",
           "arrowhead": 0,
           "arrowwidth": 1
          },
          "autotypenumbers": "strict",
          "coloraxis": {
           "colorbar": {
            "outlinewidth": 0,
            "ticks": ""
           }
          },
          "colorscale": {
           "diverging": [
            [
             0,
             "#8e0152"
            ],
            [
             0.1,
             "#c51b7d"
            ],
            [
             0.2,
             "#de77ae"
            ],
            [
             0.3,
             "#f1b6da"
            ],
            [
             0.4,
             "#fde0ef"
            ],
            [
             0.5,
             "#f7f7f7"
            ],
            [
             0.6,
             "#e6f5d0"
            ],
            [
             0.7,
             "#b8e186"
            ],
            [
             0.8,
             "#7fbc41"
            ],
            [
             0.9,
             "#4d9221"
            ],
            [
             1,
             "#276419"
            ]
           ],
           "sequential": [
            [
             0,
             "#0d0887"
            ],
            [
             0.1111111111111111,
             "#46039f"
            ],
            [
             0.2222222222222222,
             "#7201a8"
            ],
            [
             0.3333333333333333,
             "#9c179e"
            ],
            [
             0.4444444444444444,
             "#bd3786"
            ],
            [
             0.5555555555555556,
             "#d8576b"
            ],
            [
             0.6666666666666666,
             "#ed7953"
            ],
            [
             0.7777777777777778,
             "#fb9f3a"
            ],
            [
             0.8888888888888888,
             "#fdca26"
            ],
            [
             1,
             "#f0f921"
            ]
           ],
           "sequentialminus": [
            [
             0,
             "#0d0887"
            ],
            [
             0.1111111111111111,
             "#46039f"
            ],
            [
             0.2222222222222222,
             "#7201a8"
            ],
            [
             0.3333333333333333,
             "#9c179e"
            ],
            [
             0.4444444444444444,
             "#bd3786"
            ],
            [
             0.5555555555555556,
             "#d8576b"
            ],
            [
             0.6666666666666666,
             "#ed7953"
            ],
            [
             0.7777777777777778,
             "#fb9f3a"
            ],
            [
             0.8888888888888888,
             "#fdca26"
            ],
            [
             1,
             "#f0f921"
            ]
           ]
          },
          "colorway": [
           "#636efa",
           "#EF553B",
           "#00cc96",
           "#ab63fa",
           "#FFA15A",
           "#19d3f3",
           "#FF6692",
           "#B6E880",
           "#FF97FF",
           "#FECB52"
          ],
          "font": {
           "color": "#2a3f5f"
          },
          "geo": {
           "bgcolor": "white",
           "lakecolor": "white",
           "landcolor": "#E5ECF6",
           "showlakes": true,
           "showland": true,
           "subunitcolor": "white"
          },
          "hoverlabel": {
           "align": "left"
          },
          "hovermode": "closest",
          "mapbox": {
           "style": "light"
          },
          "paper_bgcolor": "white",
          "plot_bgcolor": "#E5ECF6",
          "polar": {
           "angularaxis": {
            "gridcolor": "white",
            "linecolor": "white",
            "ticks": ""
           },
           "bgcolor": "#E5ECF6",
           "radialaxis": {
            "gridcolor": "white",
            "linecolor": "white",
            "ticks": ""
           }
          },
          "scene": {
           "xaxis": {
            "backgroundcolor": "#E5ECF6",
            "gridcolor": "white",
            "gridwidth": 2,
            "linecolor": "white",
            "showbackground": true,
            "ticks": "",
            "zerolinecolor": "white"
           },
           "yaxis": {
            "backgroundcolor": "#E5ECF6",
            "gridcolor": "white",
            "gridwidth": 2,
            "linecolor": "white",
            "showbackground": true,
            "ticks": "",
            "zerolinecolor": "white"
           },
           "zaxis": {
            "backgroundcolor": "#E5ECF6",
            "gridcolor": "white",
            "gridwidth": 2,
            "linecolor": "white",
            "showbackground": true,
            "ticks": "",
            "zerolinecolor": "white"
           }
          },
          "shapedefaults": {
           "line": {
            "color": "#2a3f5f"
           }
          },
          "ternary": {
           "aaxis": {
            "gridcolor": "white",
            "linecolor": "white",
            "ticks": ""
           },
           "baxis": {
            "gridcolor": "white",
            "linecolor": "white",
            "ticks": ""
           },
           "bgcolor": "#E5ECF6",
           "caxis": {
            "gridcolor": "white",
            "linecolor": "white",
            "ticks": ""
           }
          },
          "title": {
           "x": 0.05
          },
          "xaxis": {
           "automargin": true,
           "gridcolor": "white",
           "linecolor": "white",
           "ticks": "",
           "title": {
            "standoff": 15
           },
           "zerolinecolor": "white",
           "zerolinewidth": 2
          },
          "yaxis": {
           "automargin": true,
           "gridcolor": "white",
           "linecolor": "white",
           "ticks": "",
           "title": {
            "standoff": 15
           },
           "zerolinecolor": "white",
           "zerolinewidth": 2
          }
         }
        },
        "title": {
         "text": "Out of tube proportions"
        }
       }
      },
      "text/html": [
       "<div>                            <div id=\"8db9f087-9250-4cd9-ae17-81ff31f940a0\" class=\"plotly-graph-div\" style=\"height:525px; width:100%;\"></div>            <script type=\"text/javascript\">                require([\"plotly\"], function(Plotly) {                    window.PLOTLYENV=window.PLOTLYENV || {};                                    if (document.getElementById(\"8db9f087-9250-4cd9-ae17-81ff31f940a0\")) {                    Plotly.newPlot(                        \"8db9f087-9250-4cd9-ae17-81ff31f940a0\",                        [{\"name\":\"ALT[m]\",\"x\":[\"/record_00\",\"/record_01\",\"/record_02\",\"/record_03\",\"/record_04\",\"/record_05\",\"/record_10\",\"/record_11\",\"/record_12\",\"/record_13\",\"/record_14\",\"/record_15\",\"/record_16\",\"/record_17\",\"/record_18\",\"/record_19\",\"/record_20\",\"/record_21\",\"/record_22\",\"/record_23\",\"/record_24\",\"/record_25\",\"/record_26\",\"/record_27\",\"/record_28\",\"/record_29\",\"/record_30\",\"/record_31\",\"/record_32\",\"/record_33\",\"/record_34\",\"/record_35\",\"/record_36\",\"/record_37\",\"/record_38\",\"/record_39\",\"/record_40\",\"/record_41\",\"/record_42\",\"/record_43\",\"/record_44\",\"/record_45\",\"/record_46\",\"/record_47\",\"/record_48\",\"/record_49\",\"/record_50\",\"/record_51\"],\"y\":[0.0005571030640668524,0.0009047044632086852,0.06856955380577427,0.0009385265133740028,0.0,0.9447115384615384,0.0,0.0002963841138114997,0.0004203446826397646,0.008839779005524863,0.0034183539311070208,0.006100942872989462,0.003596044351213665,0.0,0.003554201574003554,0.0008326394671107411,0.0011824990145841545,0.001962066710268149,0.0,0.0,0.0009134505594884677,0.0,0.00051440329218107,0.007350484463748747,0.0,0.0017316017316017316,0.016778523489932886,0.015587529976019185,0.021965182848463605,0.0004035512510088781,0.0006695681285570807,0.0006901311249137336,0.0,0.8623622656098976,0.0011503067484662577,0.0002701972439881113,0.00044802867383512545,0.00039269585705870805,0.0,0.009844559585492229,0.016525749423520367,0.0,0.11953588774959525,0.11747180251117259,0.0005136106831022085,0.08034610630407911,0.14285714285714285,0.005045408678102927],\"type\":\"bar\"},{\"name\":\"Tisa[K]\",\"x\":[\"/record_00\",\"/record_01\",\"/record_02\",\"/record_03\",\"/record_04\",\"/record_05\",\"/record_10\",\"/record_11\",\"/record_12\",\"/record_13\",\"/record_14\",\"/record_15\",\"/record_16\",\"/record_17\",\"/record_18\",\"/record_19\",\"/record_20\",\"/record_21\",\"/record_22\",\"/record_23\",\"/record_24\",\"/record_25\",\"/record_26\",\"/record_27\",\"/record_28\",\"/record_29\",\"/record_30\",\"/record_31\",\"/record_32\",\"/record_33\",\"/record_34\",\"/record_35\",\"/record_36\",\"/record_37\",\"/record_38\",\"/record_39\",\"/record_40\",\"/record_41\",\"/record_42\",\"/record_43\",\"/record_44\",\"/record_45\",\"/record_46\",\"/record_47\",\"/record_48\",\"/record_49\",\"/record_50\",\"/record_51\"],\"y\":[0.0005571030640668524,0.0009047044632086852,0.035761154855643046,0.39277334584702017,0.945983379501385,0.90625,0.0475,0.0002963841138114997,0.16729718369062632,0.03720073664825046,0.15119642387588747,0.04076539101497504,0.008390770152831885,0.0,0.2399086062452399,0.0022203719122953097,0.005912495072920773,0.002616088947024199,0.0016294227188081937,0.009194483310013992,0.3037223110299155,0.0,0.0007716049382716049,0.017373872368860673,0.06422018348623854,0.012554112554112554,0.020134228187919462,0.03237410071942446,0.16649141254819488,0.00712940543449018,0.001004352192835621,0.0006901311249137336,0.26401794296699777,0.873381016818094,0.0072852760736196315,0.0002701972439881113,0.00044802867383512545,0.005694089927351266,0.00023250406882120437,0.023575129533678758,0.6264411990776326,0.0,0.594441446303292,0.12747393062353693,0.000684814244136278,0.10367737948084055,0.12057667103538663,0.0024217961654894047],\"type\":\"bar\"}],                        {\"template\":{\"data\":{\"histogram2dcontour\":[{\"type\":\"histogram2dcontour\",\"colorbar\":{\"outlinewidth\":0,\"ticks\":\"\"},\"colorscale\":[[0.0,\"#0d0887\"],[0.1111111111111111,\"#46039f\"],[0.2222222222222222,\"#7201a8\"],[0.3333333333333333,\"#9c179e\"],[0.4444444444444444,\"#bd3786\"],[0.5555555555555556,\"#d8576b\"],[0.6666666666666666,\"#ed7953\"],[0.7777777777777778,\"#fb9f3a\"],[0.8888888888888888,\"#fdca26\"],[1.0,\"#f0f921\"]]}],\"choropleth\":[{\"type\":\"choropleth\",\"colorbar\":{\"outlinewidth\":0,\"ticks\":\"\"}}],\"histogram2d\":[{\"type\":\"histogram2d\",\"colorbar\":{\"outlinewidth\":0,\"ticks\":\"\"},\"colorscale\":[[0.0,\"#0d0887\"],[0.1111111111111111,\"#46039f\"],[0.2222222222222222,\"#7201a8\"],[0.3333333333333333,\"#9c179e\"],[0.4444444444444444,\"#bd3786\"],[0.5555555555555556,\"#d8576b\"],[0.6666666666666666,\"#ed7953\"],[0.7777777777777778,\"#fb9f3a\"],[0.8888888888888888,\"#fdca26\"],[1.0,\"#f0f921\"]]}],\"heatmap\":[{\"type\":\"heatmap\",\"colorbar\":{\"outlinewidth\":0,\"ticks\":\"\"},\"colorscale\":[[0.0,\"#0d0887\"],[0.1111111111111111,\"#46039f\"],[0.2222222222222222,\"#7201a8\"],[0.3333333333333333,\"#9c179e\"],[0.4444444444444444,\"#bd3786\"],[0.5555555555555556,\"#d8576b\"],[0.6666666666666666,\"#ed7953\"],[0.7777777777777778,\"#fb9f3a\"],[0.8888888888888888,\"#fdca26\"],[1.0,\"#f0f921\"]]}],\"heatmapgl\":[{\"type\":\"heatmapgl\",\"colorbar\":{\"outlinewidth\":0,\"ticks\":\"\"},\"colorscale\":[[0.0,\"#0d0887\"],[0.1111111111111111,\"#46039f\"],[0.2222222222222222,\"#7201a8\"],[0.3333333333333333,\"#9c179e\"],[0.4444444444444444,\"#bd3786\"],[0.5555555555555556,\"#d8576b\"],[0.6666666666666666,\"#ed7953\"],[0.7777777777777778,\"#fb9f3a\"],[0.8888888888888888,\"#fdca26\"],[1.0,\"#f0f921\"]]}],\"contourcarpet\":[{\"type\":\"contourcarpet\",\"colorbar\":{\"outlinewidth\":0,\"ticks\":\"\"}}],\"contour\":[{\"type\":\"contour\",\"colorbar\":{\"outlinewidth\":0,\"ticks\":\"\"},\"colorscale\":[[0.0,\"#0d0887\"],[0.1111111111111111,\"#46039f\"],[0.2222222222222222,\"#7201a8\"],[0.3333333333333333,\"#9c179e\"],[0.4444444444444444,\"#bd3786\"],[0.5555555555555556,\"#d8576b\"],[0.6666666666666666,\"#ed7953\"],[0.7777777777777778,\"#fb9f3a\"],[0.8888888888888888,\"#fdca26\"],[1.0,\"#f0f921\"]]}],\"surface\":[{\"type\":\"surface\",\"colorbar\":{\"outlinewidth\":0,\"ticks\":\"\"},\"colorscale\":[[0.0,\"#0d0887\"],[0.1111111111111111,\"#46039f\"],[0.2222222222222222,\"#7201a8\"],[0.3333333333333333,\"#9c179e\"],[0.4444444444444444,\"#bd3786\"],[0.5555555555555556,\"#d8576b\"],[0.6666666666666666,\"#ed7953\"],[0.7777777777777778,\"#fb9f3a\"],[0.8888888888888888,\"#fdca26\"],[1.0,\"#f0f921\"]]}],\"mesh3d\":[{\"type\":\"mesh3d\",\"colorbar\":{\"outlinewidth\":0,\"ticks\":\"\"}}],\"scatter\":[{\"fillpattern\":{\"fillmode\":\"overlay\",\"size\":10,\"solidity\":0.2},\"type\":\"scatter\"}],\"parcoords\":[{\"type\":\"parcoords\",\"line\":{\"colorbar\":{\"outlinewidth\":0,\"ticks\":\"\"}}}],\"scatterpolargl\":[{\"type\":\"scatterpolargl\",\"marker\":{\"colorbar\":{\"outlinewidth\":0,\"ticks\":\"\"}}}],\"bar\":[{\"error_x\":{\"color\":\"#2a3f5f\"},\"error_y\":{\"color\":\"#2a3f5f\"},\"marker\":{\"line\":{\"color\":\"#E5ECF6\",\"width\":0.5},\"pattern\":{\"fillmode\":\"overlay\",\"size\":10,\"solidity\":0.2}},\"type\":\"bar\"}],\"scattergeo\":[{\"type\":\"scattergeo\",\"marker\":{\"colorbar\":{\"outlinewidth\":0,\"ticks\":\"\"}}}],\"scatterpolar\":[{\"type\":\"scatterpolar\",\"marker\":{\"colorbar\":{\"outlinewidth\":0,\"ticks\":\"\"}}}],\"histogram\":[{\"marker\":{\"pattern\":{\"fillmode\":\"overlay\",\"size\":10,\"solidity\":0.2}},\"type\":\"histogram\"}],\"scattergl\":[{\"type\":\"scattergl\",\"marker\":{\"colorbar\":{\"outlinewidth\":0,\"ticks\":\"\"}}}],\"scatter3d\":[{\"type\":\"scatter3d\",\"line\":{\"colorbar\":{\"outlinewidth\":0,\"ticks\":\"\"}},\"marker\":{\"colorbar\":{\"outlinewidth\":0,\"ticks\":\"\"}}}],\"scattermapbox\":[{\"type\":\"scattermapbox\",\"marker\":{\"colorbar\":{\"outlinewidth\":0,\"ticks\":\"\"}}}],\"scatterternary\":[{\"type\":\"scatterternary\",\"marker\":{\"colorbar\":{\"outlinewidth\":0,\"ticks\":\"\"}}}],\"scattercarpet\":[{\"type\":\"scattercarpet\",\"marker\":{\"colorbar\":{\"outlinewidth\":0,\"ticks\":\"\"}}}],\"carpet\":[{\"aaxis\":{\"endlinecolor\":\"#2a3f5f\",\"gridcolor\":\"white\",\"linecolor\":\"white\",\"minorgridcolor\":\"white\",\"startlinecolor\":\"#2a3f5f\"},\"baxis\":{\"endlinecolor\":\"#2a3f5f\",\"gridcolor\":\"white\",\"linecolor\":\"white\",\"minorgridcolor\":\"white\",\"startlinecolor\":\"#2a3f5f\"},\"type\":\"carpet\"}],\"table\":[{\"cells\":{\"fill\":{\"color\":\"#EBF0F8\"},\"line\":{\"color\":\"white\"}},\"header\":{\"fill\":{\"color\":\"#C8D4E3\"},\"line\":{\"color\":\"white\"}},\"type\":\"table\"}],\"barpolar\":[{\"marker\":{\"line\":{\"color\":\"#E5ECF6\",\"width\":0.5},\"pattern\":{\"fillmode\":\"overlay\",\"size\":10,\"solidity\":0.2}},\"type\":\"barpolar\"}],\"pie\":[{\"automargin\":true,\"type\":\"pie\"}]},\"layout\":{\"autotypenumbers\":\"strict\",\"colorway\":[\"#636efa\",\"#EF553B\",\"#00cc96\",\"#ab63fa\",\"#FFA15A\",\"#19d3f3\",\"#FF6692\",\"#B6E880\",\"#FF97FF\",\"#FECB52\"],\"font\":{\"color\":\"#2a3f5f\"},\"hovermode\":\"closest\",\"hoverlabel\":{\"align\":\"left\"},\"paper_bgcolor\":\"white\",\"plot_bgcolor\":\"#E5ECF6\",\"polar\":{\"bgcolor\":\"#E5ECF6\",\"angularaxis\":{\"gridcolor\":\"white\",\"linecolor\":\"white\",\"ticks\":\"\"},\"radialaxis\":{\"gridcolor\":\"white\",\"linecolor\":\"white\",\"ticks\":\"\"}},\"ternary\":{\"bgcolor\":\"#E5ECF6\",\"aaxis\":{\"gridcolor\":\"white\",\"linecolor\":\"white\",\"ticks\":\"\"},\"baxis\":{\"gridcolor\":\"white\",\"linecolor\":\"white\",\"ticks\":\"\"},\"caxis\":{\"gridcolor\":\"white\",\"linecolor\":\"white\",\"ticks\":\"\"}},\"coloraxis\":{\"colorbar\":{\"outlinewidth\":0,\"ticks\":\"\"}},\"colorscale\":{\"sequential\":[[0.0,\"#0d0887\"],[0.1111111111111111,\"#46039f\"],[0.2222222222222222,\"#7201a8\"],[0.3333333333333333,\"#9c179e\"],[0.4444444444444444,\"#bd3786\"],[0.5555555555555556,\"#d8576b\"],[0.6666666666666666,\"#ed7953\"],[0.7777777777777778,\"#fb9f3a\"],[0.8888888888888888,\"#fdca26\"],[1.0,\"#f0f921\"]],\"sequentialminus\":[[0.0,\"#0d0887\"],[0.1111111111111111,\"#46039f\"],[0.2222222222222222,\"#7201a8\"],[0.3333333333333333,\"#9c179e\"],[0.4444444444444444,\"#bd3786\"],[0.5555555555555556,\"#d8576b\"],[0.6666666666666666,\"#ed7953\"],[0.7777777777777778,\"#fb9f3a\"],[0.8888888888888888,\"#fdca26\"],[1.0,\"#f0f921\"]],\"diverging\":[[0,\"#8e0152\"],[0.1,\"#c51b7d\"],[0.2,\"#de77ae\"],[0.3,\"#f1b6da\"],[0.4,\"#fde0ef\"],[0.5,\"#f7f7f7\"],[0.6,\"#e6f5d0\"],[0.7,\"#b8e186\"],[0.8,\"#7fbc41\"],[0.9,\"#4d9221\"],[1,\"#276419\"]]},\"xaxis\":{\"gridcolor\":\"white\",\"linecolor\":\"white\",\"ticks\":\"\",\"title\":{\"standoff\":15},\"zerolinecolor\":\"white\",\"automargin\":true,\"zerolinewidth\":2},\"yaxis\":{\"gridcolor\":\"white\",\"linecolor\":\"white\",\"ticks\":\"\",\"title\":{\"standoff\":15},\"zerolinecolor\":\"white\",\"automargin\":true,\"zerolinewidth\":2},\"scene\":{\"xaxis\":{\"backgroundcolor\":\"#E5ECF6\",\"gridcolor\":\"white\",\"linecolor\":\"white\",\"showbackground\":true,\"ticks\":\"\",\"zerolinecolor\":\"white\",\"gridwidth\":2},\"yaxis\":{\"backgroundcolor\":\"#E5ECF6\",\"gridcolor\":\"white\",\"linecolor\":\"white\",\"showbackground\":true,\"ticks\":\"\",\"zerolinecolor\":\"white\",\"gridwidth\":2},\"zaxis\":{\"backgroundcolor\":\"#E5ECF6\",\"gridcolor\":\"white\",\"linecolor\":\"white\",\"showbackground\":true,\"ticks\":\"\",\"zerolinecolor\":\"white\",\"gridwidth\":2}},\"shapedefaults\":{\"line\":{\"color\":\"#2a3f5f\"}},\"annotationdefaults\":{\"arrowcolor\":\"#2a3f5f\",\"arrowhead\":0,\"arrowwidth\":1},\"geo\":{\"bgcolor\":\"white\",\"landcolor\":\"#E5ECF6\",\"subunitcolor\":\"white\",\"showland\":true,\"showlakes\":true,\"lakecolor\":\"white\"},\"title\":{\"x\":0.05},\"mapbox\":{\"style\":\"light\"}}},\"barmode\":\"stack\",\"title\":{\"text\":\"Out of tube proportions\"}},                        {\"responsive\": true}                    ).then(function(){\n",
       "                            \n",
       "var gd = document.getElementById('8db9f087-9250-4cd9-ae17-81ff31f940a0');\n",
       "var x = new MutationObserver(function (mutations, observer) {{\n",
       "        var display = window.getComputedStyle(gd).display;\n",
       "        if (!display || display === 'none') {{\n",
       "            console.log([gd, 'removed!']);\n",
       "            Plotly.purge(gd);\n",
       "            observer.disconnect();\n",
       "        }}\n",
       "}});\n",
       "\n",
       "// Listen for the removal of the full notebook cells\n",
       "var notebookContainer = gd.closest('#notebook-container');\n",
       "if (notebookContainer) {{\n",
       "    x.observe(notebookContainer, {childList: true});\n",
       "}}\n",
       "\n",
       "// Listen for the clearing of the current output cell\n",
       "var outputEl = gd.closest('.output');\n",
       "if (outputEl) {{\n",
       "    x.observe(outputEl, {childList: true});\n",
       "}}\n",
       "\n",
       "                        })                };                });            </script>        </div>"
      ]
     },
     "metadata": {},
     "output_type": "display_data"
    }
   ],
   "source": [
    "T.plot_scores()"
   ]
  },
  {
   "cell_type": "markdown",
   "metadata": {},
   "source": [
    "## Interactivité des tubes\n",
    "\n",
    "Les tubes ont une interface interactives comme les `Selector` et les `Opset`. Elle est obtenue par la méthode `.plot()`."
   ]
  },
  {
   "cell_type": "code",
   "execution_count": null,
   "metadata": {},
   "outputs": [
    {
     "data": {
      "application/vnd.jupyter.widget-view+json": {
       "model_id": "5e95c03b7e244df48b9977370beb9ca0",
       "version_major": 2,
       "version_minor": 0
      },
      "text/plain": [
       "Tab(children=(VBox(children=(HBox(children=(Dropdown(description='Variable :', options=('ALT[m]', 'Tisa[K]', '…"
      ]
     },
     "metadata": {},
     "output_type": "display_data"
    }
   ],
   "source": [
    "T.plot()"
   ]
  },
  {
   "cell_type": "markdown",
   "metadata": {},
   "source": [
    "Trois onglets sont accessibles :\n",
    "- **Plot** est l'affichage standard des Opsets sur lequel est rajouté le tube en vert pâle.\n",
    "- **Param** donne un accès interactif à l'ensemble des parmètres du tube.\n",
    "- **Learn** permet de relancer un apprentissage."
   ]
  },
  {
   "cell_type": "markdown",
   "metadata": {},
   "source": [
    "### Relancer un apprentissage interactivement.\n",
    "\n",
    "L'onglet **Learn** permet de sélectionner des variables et des facteurs pour un nouvel apprentissage. Les anciens apprentissages sont soit gardés, soit remplacés. Cela permet de spécifier des apprentissages spécifiques par variable."
   ]
  },
  {
   "cell_type": "markdown",
   "metadata": {},
   "source": [
    "## Réintégrer un tube sur l'Opset initial.\n",
    "\n",
    "Un objet applicatif `AppTube` permet de superposer un tube local à un Opset initial.\n",
    "\n",
    "_(Il faut bien sur que l'Opset initial et le tube soient compatibles comme pour la fonction `tubes.highlight()`.)_"
   ]
  },
  {
   "cell_type": "code",
   "execution_count": null,
   "metadata": {},
   "outputs": [
    {
     "data": {
      "application/vnd.jupyter.widget-view+json": {
       "model_id": "e3d0b35c65cc4787b8183e1085f06db5",
       "version_major": 2,
       "version_minor": 0
      },
      "text/plain": [
       "VBox(children=(HBox(children=(Dropdown(description='Variable :', index=2, options=('ALT[m]', 'Tisa[K]', 'TAS[m…"
      ]
     },
     "metadata": {},
     "output_type": "display_data"
    }
   ],
   "source": [
    "A = AppTube(S,T)\n",
    "A.plot()"
   ]
  },
  {
   "cell_type": "markdown",
   "metadata": {},
   "source": [
    "_Jérôme Lacaille (YOR)_"
   ]
  }
 ],
 "metadata": {
  "kernelspec": {
   "display_name": "Python 3.9.8 64-bit ('MVA')",
   "language": "python",
   "name": "python3"
  },
  "language_info": {
   "codemirror_mode": {
    "name": "ipython",
    "version": 3
   },
   "file_extension": ".py",
   "mimetype": "text/x-python",
   "name": "python",
   "nbconvert_exporter": "python",
   "pygments_lexer": "ipython3",
   "version": "3.9.8"
  },
  "vscode": {
   "interpreter": {
    "hash": "1fcb9cfdd0ee07a1197753dad134990b9c6367a6635ff925d576420480df1e27"
   }
  },
  "widgets": {
   "application/vnd.jupyter.widget-state+json": {
    "state": {},
    "version_major": 2,
    "version_minor": 0
   }
  }
 },
 "nbformat": 4,
 "nbformat_minor": 4
}
